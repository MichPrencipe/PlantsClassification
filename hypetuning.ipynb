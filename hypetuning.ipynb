{
  "metadata": {
    "accelerator": "GPU",
    "colab": {
      "provenance": [],
      "collapsed_sections": [
        "BeDi0Z8iMmXs"
      ]
    },
    "kernelspec": {
      "name": "python3",
      "display_name": "Python 3",
      "language": "python"
    },
    "language_info": {
      "codemirror_mode": {
        "name": "ipython",
        "version": 3
      },
      "file_extension": ".py",
      "mimetype": "text/x-python",
      "name": "python",
      "nbconvert_exporter": "python",
      "pygments_lexer": "ipython3",
      "version": "3.10.12"
    }
  },
  "nbformat_minor": 0,
  "nbformat": 4,
  "cells": [
    {
      "cell_type": "code",
      "source": [
        "from google.colab import drive\n",
        "drive.mount('/gdrive')\n",
        "%cd /gdrive/My Drive/lorenzo_hype_tuning"
      ],
      "metadata": {
        "id": "JCDb6ITcJARj",
        "colab": {
          "base_uri": "https://localhost:8080/"
        },
        "outputId": "5dddd56d-05f9-4e37-ed2a-c14f3538f404"
      },
      "execution_count": null,
      "outputs": [
        {
          "output_type": "stream",
          "name": "stdout",
          "text": [
            "Drive already mounted at /gdrive; to attempt to forcibly remount, call drive.mount(\"/gdrive\", force_remount=True).\n",
            "/gdrive/My Drive/lorenzo_hype_tuning\n"
          ]
        }
      ]
    },
    {
      "cell_type": "markdown",
      "source": [
        "# Import libraries"
      ],
      "metadata": {
        "id": "88BKu5Ww_lou"
      }
    },
    {
      "cell_type": "code",
      "source": [
        "# Fix randomness and hide warnings\n",
        "seed = 42\n",
        "\n",
        "import os\n",
        "os.environ['TF_CPP_MIN_LOG_LEVEL'] = '3'\n",
        "os.environ['PYTHONHASHSEED'] = str(seed)\n",
        "os.environ['MPLCONFIGDIR'] = os.getcwd()+'/configs/'\n",
        "\n",
        "import warnings\n",
        "warnings.simplefilter(action='ignore', category=FutureWarning)\n",
        "warnings.simplefilter(action='ignore', category=Warning)\n",
        "\n",
        "import numpy as np\n",
        "np.random.seed(seed)\n",
        "\n",
        "import logging\n",
        "\n",
        "import random\n",
        "random.seed(seed)\n",
        "import datetime"
      ],
      "metadata": {
        "id": "XY8f-aiY_low",
        "execution": {
          "iopub.status.busy": "2023-11-09T20:56:54.084185Z",
          "iopub.execute_input": "2023-11-09T20:56:54.085146Z",
          "iopub.status.idle": "2023-11-09T20:56:54.096898Z",
          "shell.execute_reply.started": "2023-11-09T20:56:54.085108Z",
          "shell.execute_reply": "2023-11-09T20:56:54.096102Z"
        },
        "trusted": true
      },
      "execution_count": null,
      "outputs": []
    },
    {
      "cell_type": "code",
      "source": [
        "# Import tensorflow\n",
        "import tensorflow as tf\n",
        "from tensorflow import keras as tfk\n",
        "from tensorflow.keras import layers as tfkl\n",
        "!pip install -q -U keras-tuner\n",
        "import keras_tuner as kt\n",
        "\n",
        "tf.autograph.set_verbosity(0)\n",
        "tf.get_logger().setLevel(logging.ERROR)\n",
        "tf.compat.v1.logging.set_verbosity(tf.compat.v1.logging.ERROR)\n",
        "tf.random.set_seed(seed)\n",
        "tf.compat.v1.set_random_seed(seed)\n",
        "print(tf.__version__)"
      ],
      "metadata": {
        "id": "fWwdXy3L_low",
        "execution": {
          "iopub.status.busy": "2023-11-09T20:56:54.164363Z",
          "iopub.execute_input": "2023-11-09T20:56:54.164650Z",
          "iopub.status.idle": "2023-11-09T20:57:20.762608Z",
          "shell.execute_reply.started": "2023-11-09T20:56:54.164621Z",
          "shell.execute_reply": "2023-11-09T20:57:20.761394Z"
        },
        "trusted": true,
        "colab": {
          "base_uri": "https://localhost:8080/"
        },
        "outputId": "4aeb033f-9883-45e3-bfdf-57275c221d6e"
      },
      "execution_count": null,
      "outputs": [
        {
          "output_type": "stream",
          "name": "stdout",
          "text": [
            "2.14.0\n"
          ]
        }
      ]
    },
    {
      "cell_type": "code",
      "source": [
        "# Import other libraries\n",
        "import matplotlib.pyplot as plt\n",
        "import pandas as pd\n",
        "from sklearn.model_selection import train_test_split\n",
        "from sklearn.utils.class_weight import compute_class_weight\n",
        "from sklearn.metrics import accuracy_score, f1_score, precision_score, recall_score, confusion_matrix, roc_curve, auc\n",
        "import seaborn as sns"
      ],
      "metadata": {
        "id": "txZnZLJH_lox",
        "execution": {
          "iopub.status.busy": "2023-11-09T20:57:20.765258Z",
          "iopub.execute_input": "2023-11-09T20:57:20.766464Z",
          "iopub.status.idle": "2023-11-09T20:57:21.160951Z",
          "shell.execute_reply.started": "2023-11-09T20:57:20.766420Z",
          "shell.execute_reply": "2023-11-09T20:57:21.160070Z"
        },
        "trusted": true
      },
      "execution_count": null,
      "outputs": []
    },
    {
      "cell_type": "markdown",
      "source": [
        "# Splitting"
      ],
      "metadata": {
        "id": "CNgI7YkI_lox"
      }
    },
    {
      "cell_type": "code",
      "source": [
        "processed_data = np.load('../homework1/processed_data.npz')\n",
        "X = processed_data['X']\n",
        "y = np.argmax(processed_data['y'], axis = -1)\n",
        "labels = {0:'healthy', 1:'unhealthy'}\n",
        "y.shape"
      ],
      "metadata": {
        "id": "I4otjL6l_lox",
        "execution": {
          "iopub.status.busy": "2023-11-09T20:57:21.169097Z",
          "iopub.execute_input": "2023-11-09T20:57:21.169413Z",
          "iopub.status.idle": "2023-11-09T20:57:25.539321Z",
          "shell.execute_reply.started": "2023-11-09T20:57:21.169384Z",
          "shell.execute_reply": "2023-11-09T20:57:25.538406Z"
        },
        "trusted": true,
        "colab": {
          "base_uri": "https://localhost:8080/"
        },
        "outputId": "fa67f2eb-13ac-4ff7-b63d-787d33355a77"
      },
      "execution_count": null,
      "outputs": [
        {
          "output_type": "execute_result",
          "data": {
            "text/plain": [
              "(5004,)"
            ]
          },
          "metadata": {},
          "execution_count": 5
        }
      ]
    },
    {
      "cell_type": "code",
      "source": [
        "X_train_val, X_test, y_train_val, y_test = train_test_split(\n",
        "    X,\n",
        "    y,\n",
        "    test_size=0.1,\n",
        "    stratify=y,\n",
        "    random_state=seed\n",
        ")\n",
        "# Further split the combined training and validation set into a training set and a validation set\n",
        "X_train, X_val, y_train, y_val = train_test_split(\n",
        "    X_train_val,\n",
        "    y_train_val,\n",
        "    test_size = len(X_test), # Ensure validation set size matches test set size\n",
        "    stratify=y_train_val,\n",
        "    random_state=seed\n",
        ")\n",
        "\n",
        "# Print the shapes of the resulting datasets\n",
        "print(\"Training_Validation Data Shape:\", X_train_val.shape)\n",
        "print(\"Training_Validation Label Shape:\", y_train_val.shape)\n",
        "print(\"Train Data Shape:\", X_train.shape)\n",
        "print(\"Train Label Shape:\", y_train.shape)\n",
        "print(\"Validation Data Shape:\", X_val.shape)\n",
        "print(\"Validation Label Shape:\", y_val.shape)\n",
        "print(\"Test Data Shape:\", X_test.shape)\n",
        "print(\"Test Label Shape:\", y_test.shape)"
      ],
      "metadata": {
        "id": "dlyanIK2_lox",
        "execution": {
          "iopub.status.busy": "2023-11-09T20:57:25.542467Z",
          "iopub.execute_input": "2023-11-09T20:57:25.543304Z",
          "iopub.status.idle": "2023-11-09T20:57:25.864834Z",
          "shell.execute_reply.started": "2023-11-09T20:57:25.543275Z",
          "shell.execute_reply": "2023-11-09T20:57:25.863802Z"
        },
        "trusted": true,
        "colab": {
          "base_uri": "https://localhost:8080/"
        },
        "outputId": "ec1cbdae-b2bf-4624-9496-e531dbf64ba1"
      },
      "execution_count": null,
      "outputs": [
        {
          "output_type": "stream",
          "name": "stdout",
          "text": [
            "Training_Validation Data Shape: (4503, 96, 96, 3)\n",
            "Training_Validation Label Shape: (4503,)\n",
            "Train Data Shape: (4002, 96, 96, 3)\n",
            "Train Label Shape: (4002,)\n",
            "Validation Data Shape: (501, 96, 96, 3)\n",
            "Validation Label Shape: (501,)\n",
            "Test Data Shape: (501, 96, 96, 3)\n",
            "Test Label Shape: (501,)\n"
          ]
        }
      ]
    },
    {
      "cell_type": "code",
      "source": [
        "# Display the count of occurrences of target classes in the training-validation dataset\n",
        "print('Counting occurrences of y_train classes:')\n",
        "print(pd.DataFrame(y_train, columns=['class']).value_counts())\n",
        "\n",
        "print('Counting occurrences of y_val classes:')\n",
        "print(pd.DataFrame(y_val, columns=['class']).value_counts())\n",
        "\n",
        "print('Counting occurrences of y_test classes:')\n",
        "print(pd.DataFrame(y_test, columns=['class']).value_counts())\n"
      ],
      "metadata": {
        "id": "3_klV7E-_loz",
        "execution": {
          "iopub.status.busy": "2023-11-09T20:57:25.866452Z",
          "iopub.execute_input": "2023-11-09T20:57:25.867157Z",
          "iopub.status.idle": "2023-11-09T20:57:25.896153Z",
          "shell.execute_reply.started": "2023-11-09T20:57:25.867117Z",
          "shell.execute_reply": "2023-11-09T20:57:25.895283Z"
        },
        "trusted": true,
        "colab": {
          "base_uri": "https://localhost:8080/"
        },
        "outputId": "91a5e861-74fc-441b-ad30-df2622df4ed4"
      },
      "execution_count": null,
      "outputs": [
        {
          "output_type": "stream",
          "name": "stdout",
          "text": [
            "Counting occurrences of y_train classes:\n",
            "class\n",
            "0        2480\n",
            "1        1522\n",
            "dtype: int64\n",
            "Counting occurrences of y_val classes:\n",
            "class\n",
            "0        311\n",
            "1        190\n",
            "dtype: int64\n",
            "Counting occurrences of y_test classes:\n",
            "class\n",
            "0        310\n",
            "1        191\n",
            "dtype: int64\n"
          ]
        }
      ]
    },
    {
      "cell_type": "code",
      "source": [
        "class_weight_dict = dict(zip(np.unique(y_train), compute_class_weight('balanced', classes=np.unique(y_train), y=y_train)))\n",
        "alpha = 1 - class_weight_dict[0]\n",
        "print(class_weight_dict, alpha)"
      ],
      "metadata": {
        "id": "pZes3a3d59ty",
        "execution": {
          "iopub.status.busy": "2023-11-09T20:58:13.075902Z",
          "iopub.execute_input": "2023-11-09T20:58:13.076266Z",
          "iopub.status.idle": "2023-11-09T20:58:13.084565Z",
          "shell.execute_reply.started": "2023-11-09T20:58:13.076237Z",
          "shell.execute_reply": "2023-11-09T20:58:13.083551Z"
        },
        "trusted": true,
        "colab": {
          "base_uri": "https://localhost:8080/"
        },
        "outputId": "408cf13c-f586-487f-c652-a3f9a5f9f0e9"
      },
      "execution_count": null,
      "outputs": [
        {
          "output_type": "stream",
          "name": "stdout",
          "text": [
            "{0: 0.8068548387096774, 1: 1.3147174770039423} 0.19314516129032255\n"
          ]
        }
      ]
    },
    {
      "cell_type": "markdown",
      "source": [
        "# ConvNeXtBase"
      ],
      "metadata": {
        "id": "PohCyxNH_loz"
      }
    },
    {
      "cell_type": "code",
      "source": [
        "# Define batch size, number of epochs, learning rate, input shape, and output shape\n",
        "batch_size = 16\n",
        "epochs = 200\n",
        "es_patience = 10\n",
        "rp_patience = 20\n",
        "rp_min_lr = 1e-5\n",
        "rp_factor = 0.1\n",
        "\n",
        "\n",
        "input_shape = X_train.shape[1:]\n",
        "output_shape = 1\n",
        "\n",
        "# Define two callback functions for early stopping and learning rate reduction\n",
        "callbacks=[\n",
        "    tfk.callbacks.EarlyStopping(monitor='val_accuracy', patience=es_patience, restore_best_weights=True, mode='max'),\n",
        "    tfk.callbacks.ReduceLROnPlateau(monitor=\"val_accuracy\", factor=rp_factor, patience=rp_patience, min_lr=rp_min_lr, mode='max')\n",
        "]"
      ],
      "metadata": {
        "id": "cHtNFUTf_loz",
        "execution": {
          "iopub.status.busy": "2023-11-09T20:58:19.792993Z",
          "iopub.execute_input": "2023-11-09T20:58:19.793734Z",
          "iopub.status.idle": "2023-11-09T20:58:19.798719Z",
          "shell.execute_reply.started": "2023-11-09T20:58:19.793700Z",
          "shell.execute_reply": "2023-11-09T20:58:19.797633Z"
        },
        "trusted": true
      },
      "execution_count": null,
      "outputs": []
    },
    {
      "cell_type": "code",
      "source": [
        "def build_model(\n",
        "    hp,\n",
        "    input_shape=input_shape,\n",
        "    output_shape=output_shape,\n",
        "):\n",
        "    hp_dropout_1 = hp.Float(name='dropout_1', min_value = 0.1, max_value = 0.5, default = 0.2, step=0.05)\n",
        "    hp_is_dropout_2 = hp.Boolean('is_dropout_2', default=True)\n",
        "    hp_dropout_2 = hp.Float(name='dropout_2', min_value = 0.1, max_value = 0.5, default = 0.3, step=0.05)\n",
        "    hp_to_freeze = hp.Choice(name='to_freeze', values=[161, 181, 221, 237], default=221)\n",
        "    hp_gauss_noise = hp.Float(name='gauss_noise', min_value = 0.05, max_value = 0.3, default = 0.15, step=0.05)\n",
        "    hp_init =  hp.Choice(name='init', values=['he_uniform', 'glorot_uniform'])\n",
        "    hp_units_1 = hp.Choice(name='units_1', values=[256, 512], default=512)\n",
        "    hp_units_2 = hp.Choice(name='units_2', values=[32, 64, 128], default=128)\n",
        "    hp_learning_rate = hp.Float(\"learning_rate\", min_value=1e-4, max_value=1e-2, sampling='log')\n",
        "    hp_weight_decay = hp.Float('weight_decay', min_value=1e-4, max_value=1e-2, sampling='log')\n",
        "    hp_alpha= hp.Float('alpha', min_value=0.1, max_value=0.3, default=alpha, step=0.05)\n",
        "    hp_gamma= hp.Float('gamma', min_value=1.8, max_value=2.2, default=2.0, step=0.05)\n",
        "\n",
        "\n",
        "    preprocessing = tfk.Sequential([\n",
        "        tfkl.GaussianNoise(hp_gauss_noise),\n",
        "        tfkl.RandomFlip('horizontal'),\n",
        "        tfkl.RandomTranslation(height_factor=(-0.2, 0.3), width_factor=(-0.2, 0.3))\n",
        "    ], name='Preprocessing')\n",
        "\n",
        "    input_layer = tfkl.Input(shape=input_shape, name='Input_Layer')\n",
        "\n",
        "    baseline_model = tfk.applications.ConvNeXtBase(\n",
        "        weights='imagenet',\n",
        "        include_top=False,\n",
        "        input_shape=input_shape\n",
        "    )\n",
        "    # Freeze first N layers\n",
        "    N = hp_to_freeze\n",
        "    baseline_model.trainable = True\n",
        "    for i, layer in enumerate(baseline_model.layers[:N]):\n",
        "        layer.trainable=False\n",
        "\n",
        "    x = preprocessing(input_layer)\n",
        "\n",
        "    x = baseline_model(x)\n",
        "\n",
        "    x = tfkl.GlobalAveragePooling2D(name='GlobalAveragePooling')(x)\n",
        "\n",
        "    x = tfkl.Dense(hp_units_1, kernel_initializer=hp_init)(x)\n",
        "    x = tfkl.BatchNormalization()(x)\n",
        "    x = tfkl.Activation(activation='relu')(x)\n",
        "\n",
        "    x = tfkl.Dropout(hp_dropout_1)(x)\n",
        "\n",
        "    x = tfkl.Dense(hp_units_2, kernel_initializer=hp_init)(x)\n",
        "    x = tfkl.BatchNormalization()(x)\n",
        "    x = tfkl.Activation(activation='relu')(x)\n",
        "\n",
        "    if (hp_is_dropout_2):\n",
        "      x = tfkl.Dropout(hp_dropout_2)(x)\n",
        "\n",
        "\n",
        "    output_layer = tfkl.Dense(output_shape, name='output_layer', activation='sigmoid')(x)\n",
        "\n",
        "    # Create the model\n",
        "    model = tfk.Model(inputs=input_layer, outputs=output_layer)\n",
        "\n",
        "    loss = tfk.losses.BinaryFocalCrossentropy(\n",
        "        apply_class_balancing=True,\n",
        "        alpha=hp_alpha,\n",
        "        gamma=hp_gamma\n",
        "    )\n",
        "    model.compile(loss=loss, optimizer=tfk.optimizers.AdamW(hp_learning_rate, weight_decay=hp_weight_decay), metrics=['accuracy'])\n",
        "    return model"
      ],
      "metadata": {
        "id": "ujQswVeH2zof",
        "execution": {
          "iopub.status.busy": "2023-11-09T20:58:22.367976Z",
          "iopub.execute_input": "2023-11-09T20:58:22.368306Z",
          "iopub.status.idle": "2023-11-09T20:58:22.380078Z",
          "shell.execute_reply.started": "2023-11-09T20:58:22.368282Z",
          "shell.execute_reply": "2023-11-09T20:58:22.379086Z"
        },
        "trusted": true
      },
      "execution_count": null,
      "outputs": []
    },
    {
      "cell_type": "markdown",
      "source": [
        "# Hypesearch"
      ],
      "metadata": {
        "id": "qXVVq_kfMiMP"
      }
    },
    {
      "cell_type": "code",
      "source": [
        "hp = kt.HyperParameters()\n",
        "\n",
        "fixed_hs = {\n",
        "#     'dropout_1': 0.3,\n",
        "#     'dropout_2': 0.3,\n",
        "#     'is_dropout_2': True,\n",
        "#     'to_freeze': 181,\n",
        "#     'gauss_noise': 0.1,\n",
        "#     'init': 'he_uniform',\n",
        "#     'units_1': 512,\n",
        "#     'units_1': 256,\n",
        "#     'learning_rate': 1e-4,\n",
        "#     'weight_decay': 5e-4,\n",
        "#     'alpha': alpha,\n",
        "#     'gamma': 2.0,\n",
        "}\n",
        "\n",
        "for key, value in fixed_hs.items():\n",
        "  hp.Fixed(name=key, value=value)\n",
        "\n",
        "tuner = kt.Hyperband(\n",
        "    hypermodel=build_model,\n",
        "    hyperparameters=hp,\n",
        "    max_epochs=40,\n",
        "    objective='val_accuracy',\n",
        "    directory='hyperband_search_dir_2',\n",
        "    project_name='convnext_base',\n",
        "    overwrite = False\n",
        ")\n",
        "tuner.search_space_summary()"
      ],
      "metadata": {
        "id": "BuDxWrRpKtUy",
        "colab": {
          "base_uri": "https://localhost:8080/"
        },
        "outputId": "3d8f5f63-203d-499b-88c0-53052060b398"
      },
      "execution_count": null,
      "outputs": [
        {
          "output_type": "stream",
          "name": "stdout",
          "text": [
            "Reloading Tuner from hyperband_search_dir_2/convnext_base/tuner0.json\n",
            "Search space summary\n",
            "Default search space size: 12\n",
            "dropout_1 (Float)\n",
            "{'default': 0.2, 'conditions': [], 'min_value': 0.1, 'max_value': 0.5, 'step': 0.05, 'sampling': 'linear'}\n",
            "is_dropout_2 (Boolean)\n",
            "{'default': True, 'conditions': []}\n",
            "dropout_2 (Float)\n",
            "{'default': 0.3, 'conditions': [], 'min_value': 0.1, 'max_value': 0.5, 'step': 0.05, 'sampling': 'linear'}\n",
            "to_freeze (Choice)\n",
            "{'default': 221, 'conditions': [], 'values': [161, 181, 221, 237], 'ordered': True}\n",
            "gauss_noise (Float)\n",
            "{'default': 0.15, 'conditions': [], 'min_value': 0.05, 'max_value': 0.3, 'step': 0.05, 'sampling': 'linear'}\n",
            "init (Choice)\n",
            "{'default': 'he_uniform', 'conditions': [], 'values': ['he_uniform', 'glorot_uniform'], 'ordered': False}\n",
            "units_1 (Choice)\n",
            "{'default': 512, 'conditions': [], 'values': [256, 512], 'ordered': True}\n",
            "units_2 (Choice)\n",
            "{'default': 128, 'conditions': [], 'values': [32, 64, 128], 'ordered': True}\n",
            "learning_rate (Float)\n",
            "{'default': 0.0001, 'conditions': [], 'min_value': 0.0001, 'max_value': 0.01, 'step': None, 'sampling': 'log'}\n",
            "weight_decay (Float)\n",
            "{'default': 0.0001, 'conditions': [], 'min_value': 0.0001, 'max_value': 0.01, 'step': None, 'sampling': 'log'}\n",
            "alpha (Float)\n",
            "{'default': 0.19314516129032255, 'conditions': [], 'min_value': 0.1, 'max_value': 0.3, 'step': 0.05, 'sampling': 'linear'}\n",
            "gamma (Float)\n",
            "{'default': 2.0, 'conditions': [], 'min_value': 1.8, 'max_value': 2.2, 'step': 0.05, 'sampling': 'linear'}\n"
          ]
        }
      ]
    },
    {
      "cell_type": "code",
      "source": [
        "tuner.search(\n",
        "    X_train * 255,\n",
        "    y_train,\n",
        "    validation_data=(X_val * 255,y_val),\n",
        "    epochs=epochs,\n",
        "    batch_size=batch_size,\n",
        "    callbacks=callbacks\n",
        ")"
      ],
      "metadata": {
        "colab": {
          "base_uri": "https://localhost:8080/"
        },
        "id": "wyrkJj-nMgdU",
        "outputId": "be62feb1-ad96-4933-f4fc-72dabda0121b"
      },
      "execution_count": null,
      "outputs": [
        {
          "output_type": "stream",
          "name": "stdout",
          "text": [
            "Trial 30 Complete [00h 04m 11s]\n",
            "val_accuracy: 0.8463073968887329\n",
            "\n",
            "Best val_accuracy So Far: 0.8702594637870789\n",
            "Total elapsed time: 02h 31m 46s\n",
            "\n",
            "Search: Running Trial #31\n",
            "\n",
            "Value             |Best Value So Far |Hyperparameter\n",
            "0.5               |0.45              |dropout_1\n",
            "False             |True              |is_dropout_2\n",
            "0.15              |0.2               |dropout_2\n",
            "237               |237               |to_freeze\n",
            "0.05              |0.05              |gauss_noise\n",
            "glorot_uniform    |glorot_uniform    |init\n",
            "256               |512               |units_1\n",
            "128               |128               |units_2\n",
            "0.0089263         |0.00041236        |learning_rate\n",
            "0.00058644        |0.00075142        |weight_decay\n",
            "0.2               |0.2               |alpha\n",
            "1.8               |2.15              |gamma\n",
            "2                 |2                 |tuner/epochs\n",
            "0                 |0                 |tuner/initial_epoch\n",
            "3                 |3                 |tuner/bracket\n",
            "0                 |0                 |tuner/round\n",
            "\n"
          ]
        }
      ]
    },
    {
      "cell_type": "markdown",
      "source": [
        "# Build final model"
      ],
      "metadata": {
        "id": "BeDi0Z8iMmXs"
      }
    },
    {
      "cell_type": "code",
      "source": [
        "model = build_model()\n",
        "model.summary()"
      ],
      "metadata": {
        "id": "6rnB-yUf8Eig",
        "execution": {
          "iopub.status.busy": "2023-11-09T20:58:23.562497Z",
          "iopub.execute_input": "2023-11-09T20:58:23.562853Z",
          "iopub.status.idle": "2023-11-09T20:58:40.385349Z",
          "shell.execute_reply.started": "2023-11-09T20:58:23.562825Z",
          "shell.execute_reply": "2023-11-09T20:58:40.384498Z"
        },
        "trusted": true
      },
      "execution_count": null,
      "outputs": []
    },
    {
      "cell_type": "code",
      "source": [
        "for i, layer in enumerate(model.get_layer('convnext_base').layers):\n",
        "  print(i, layer.trainable, layer.name)"
      ],
      "metadata": {
        "id": "UGIOYCC41RlX"
      },
      "execution_count": null,
      "outputs": []
    },
    {
      "cell_type": "code",
      "source": [
        "history = model.fit(\n",
        "    X_train * 255,\n",
        "    y_train,\n",
        "    validation_data=(X_val * 255,y_val),\n",
        "    epochs=epochs,\n",
        "    batch_size=batch_size,\n",
        "    verbose=1,\n",
        "    callbacks=callbacks,\n",
        "    class_weight=class_weight_dict\n",
        ").history"
      ],
      "metadata": {
        "id": "X_AGZwUr8yQQ",
        "execution": {
          "iopub.status.busy": "2023-11-09T20:58:40.387060Z",
          "iopub.execute_input": "2023-11-09T20:58:40.387872Z",
          "iopub.status.idle": "2023-11-09T21:22:47.972914Z",
          "shell.execute_reply.started": "2023-11-09T20:58:40.387837Z",
          "shell.execute_reply": "2023-11-09T21:22:47.971959Z"
        },
        "trusted": true
      },
      "execution_count": null,
      "outputs": []
    },
    {
      "cell_type": "code",
      "source": [
        "model.save('convnext_base')"
      ],
      "metadata": {
        "execution": {
          "iopub.status.busy": "2023-11-09T21:24:53.093276Z",
          "iopub.execute_input": "2023-11-09T21:24:53.093984Z",
          "iopub.status.idle": "2023-11-09T21:24:56.083973Z",
          "shell.execute_reply.started": "2023-11-09T21:24:53.093953Z",
          "shell.execute_reply": "2023-11-09T21:24:56.082821Z"
        },
        "trusted": true,
        "id": "FPAjPsmkI_v3"
      },
      "execution_count": null,
      "outputs": []
    },
    {
      "cell_type": "code",
      "source": [
        "# Plot the transfer learning xception training histories\n",
        "plt.figure(figsize=(15,5))\n",
        "plt.plot(history['loss'], alpha=.3, label = 'loss', color='#ff7f0e', linestyle='--')\n",
        "plt.plot(history['val_loss'], label='val_loss', alpha=.8, color='#ff7f0e')\n",
        "plt.legend(loc='upper left')\n",
        "plt.title('Binary Crossentropy')\n",
        "plt.grid(alpha=.3)\n",
        "\n",
        "plt.figure(figsize=(15,5))\n",
        "plt.plot(history['accuracy'], alpha=.3, label='accuracy', color='#ff7f0e', linestyle='--')\n",
        "plt.plot(history['val_accuracy'], label='val_accuracy', alpha=.8, color='#ff7f0e')\n",
        "plt.legend(loc='upper left')\n",
        "plt.title('Accuracy')\n",
        "plt.grid(alpha=.3)\n",
        "\n",
        "plt.show()"
      ],
      "metadata": {
        "id": "ueIGUISw_lo1",
        "execution": {
          "iopub.status.busy": "2023-11-09T20:57:26.708663Z",
          "iopub.status.idle": "2023-11-09T20:57:26.708967Z",
          "shell.execute_reply.started": "2023-11-09T20:57:26.708814Z",
          "shell.execute_reply": "2023-11-09T20:57:26.708828Z"
        },
        "trusted": true
      },
      "execution_count": null,
      "outputs": []
    },
    {
      "cell_type": "markdown",
      "source": [
        "# Make Inference\n",
        "\n"
      ],
      "metadata": {
        "id": "TfC1h3w0_lo1"
      }
    },
    {
      "cell_type": "code",
      "source": [
        "def compute_metrics(y_true, y_pred):\n",
        "    accuracy = accuracy_score(y_true, y_pred).round(4)\n",
        "    precision = precision_score(y_true, y_pred, average='macro').round(4)\n",
        "    recall = recall_score(y_true, y_pred, average='macro').round(4)\n",
        "    f1 = f1_score(y_true, y_pred, average='macro').round(4)\n",
        "\n",
        "    return {\n",
        "      'accuracy': accuracy,\n",
        "      'precision': precision,\n",
        "      'recall' : recall,\n",
        "      'f1' : f1\n",
        "    }\n",
        "def compute_cm(y_true, y_pred):\n",
        "  # Compute the confusion matrix\n",
        "  cm = confusion_matrix(y_true, y_pred)\n",
        "  # Plot the confusion matrix\n",
        "  plt.figure(figsize=(10, 8))\n",
        "  sns.heatmap(cm.T, xticklabels=list(labels.values()), yticklabels=list(labels.values()), cmap='Blues')\n",
        "  plt.xlabel('True labels')\n",
        "  plt.ylabel('Predicted labels')\n",
        "  plt.show()\n",
        "\n",
        "def compute_roc_curve(y_true, y_pred):\n",
        "  # Compute ROC curve and AUC\n",
        "  fpr, tpr, thresholds = roc_curve(y_true, y_pred)\n",
        "  roc_auc = auc(fpr, tpr)\n",
        "\n",
        "  # Plot the ROC curve\n",
        "  plt.figure(figsize=(8, 6))\n",
        "  plt.plot(fpr, tpr, color='darkorange', lw=2, label='ROC curve (AUC = {:.2f})'.format(roc_auc))\n",
        "  plt.plot([0, 1], [0, 1], color='navy', lw=2, linestyle='--')\n",
        "  plt.xlabel('False Positive Rate')\n",
        "  plt.ylabel('True Positive Rate')\n",
        "  plt.title('Receiver Operating Characteristic (ROC) Curve')\n",
        "  plt.legend(loc=\"lower right\")\n",
        "  plt.show()\n",
        "\n",
        "def compute_optimal_threshold(y_true, y_pred):\n",
        "  fpr, tpr, thresholds = roc_curve(y_true, y_pred)\n",
        "  roc_auc = auc(fpr, tpr)\n",
        "\n",
        "  # Find the optimal threshold based on the Youden's J statistic\n",
        "  optimal_idx = np.argmax(tpr - fpr)\n",
        "  optimal_threshold = thresholds[optimal_idx]\n",
        "  return optimal_threshold\n",
        "\n",
        "def make_inference(y_true, y_pred, use_threshold=True):\n",
        "  optimal_threshold = 0.5\n",
        "  if (use_threshold):\n",
        "      optimal_threshold = compute_optimal_threshold(y_true, y_pred)\n",
        "      print(\"Optimal Threshold:\", optimal_threshold)\n",
        "\n",
        "\n",
        "  y_pred_t = (y_pred > optimal_threshold).astype(int)\n",
        "  metrics = compute_metrics(y_true, y_pred_t)\n",
        "  # Display the computed metrics\n",
        "  print(datetime.datetime.now(), '-', optimal_threshold ,' - ', metrics, ' - ', hs)"
      ],
      "metadata": {
        "id": "I9evKUcL-eRh"
      },
      "execution_count": null,
      "outputs": []
    },
    {
      "cell_type": "code",
      "source": [
        "y_test_true = y_test\n",
        "y_test_pred = np.squeeze(model.predict(X_test * 255, verbose=1), axis=-1)\n",
        "make_inference(y_test_true, y_test_pred, use_threshold=True)"
      ],
      "metadata": {
        "execution": {
          "iopub.status.busy": "2023-11-09T20:26:48.154332Z",
          "iopub.execute_input": "2023-11-09T20:26:48.154695Z",
          "iopub.status.idle": "2023-11-09T20:26:50.263005Z",
          "shell.execute_reply.started": "2023-11-09T20:26:48.154667Z",
          "shell.execute_reply": "2023-11-09T20:26:50.262217Z"
        },
        "trusted": true,
        "id": "srqCYdGJI_v4"
      },
      "execution_count": null,
      "outputs": []
    },
    {
      "cell_type": "code",
      "source": [],
      "metadata": {
        "id": "RYkAageIKvsK"
      },
      "execution_count": null,
      "outputs": []
    }
  ]
}